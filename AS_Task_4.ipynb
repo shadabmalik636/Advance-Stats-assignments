{
 "cells": [
  {
   "cell_type": "code",
   "execution_count": 1,
   "id": "2bf50d4c-30e3-45ba-a508-bc9b1f497fff",
   "metadata": {},
   "outputs": [
    {
     "name": "stdout",
     "output_type": "stream",
     "text": [
      "PDF value at x = 880 : 0.006854705590746235\n"
     ]
    }
   ],
   "source": [
    "import numpy as np\n",
    "\n",
    "# Define the parameters\n",
    "mu = 845  # mean weight in grams\n",
    "sigma = 38.5  # standard deviation in grams\n",
    "\n",
    "# Define the PDF function\n",
    "def normal_pdf(x, mu, sigma):\n",
    "    return 1 / (sigma * np.sqrt(2 * np.pi)) * np.exp(-((x - mu) ** 2) / (2 * sigma ** 2))\n",
    "\n",
    "# Test the PDF for a specific weight\n",
    "x = 880  # weight in grams\n",
    "pdf_value = normal_pdf(x, mu, sigma)\n",
    "print(\"PDF value at x =\", x, \":\", pdf_value)\n"
   ]
  },
  {
   "cell_type": "code",
   "execution_count": 2,
   "id": "f66c1268-3171-44ce-8a85-1a33ec97286b",
   "metadata": {},
   "outputs": [
    {
     "name": "stdout",
     "output_type": "stream",
     "text": [
      "Sample Standard Deviation of the New System's Weights: 58.44237427681315\n",
      "Critical Value (Standard Deviation of Previous System): 38.5\n",
      "Fail to reject the null hypothesis: There is insufficient evidence to conclude that the new system produces hammers with less constant weights.\n"
     ]
    }
   ],
   "source": [
    "import numpy as np\n",
    "\n",
    "# Define the sample weights\n",
    "weights_new_system = np.array([795, 757, 777, 785, 903, 791, 902, 888, 807, 757])\n",
    "\n",
    "# Step 3: Calculate the sample standard deviation\n",
    "sample_std_new_system = np.std(weights_new_system, ddof=1)\n",
    "print(\"Sample Standard Deviation of the New System's Weights:\", sample_std_new_system)\n",
    "\n",
    "# Step 4: Determine the critical value (using the standard deviation of the previous system)\n",
    "critical_value = 38.5\n",
    "print(\"Critical Value (Standard Deviation of Previous System):\", critical_value)\n",
    "\n",
    "# Step 5: Perform the hypothesis test\n",
    "alpha = 0.05\n",
    "if sample_std_new_system < critical_value:\n",
    "    print(\"Reject the null hypothesis: The new system produces hammers with less constant weights.\")\n",
    "else:\n",
    "    print(\"Fail to reject the null hypothesis: There is insufficient evidence to conclude that the new system produces hammers with less constant weights.\")\n"
   ]
  },
  {
   "cell_type": "code",
   "execution_count": null,
   "id": "8f8625f7-7684-4d17-be7a-ee1a77ff1b75",
   "metadata": {},
   "outputs": [],
   "source": []
  }
 ],
 "metadata": {
  "kernelspec": {
   "display_name": "Python 3 (ipykernel)",
   "language": "python",
   "name": "python3"
  },
  "language_info": {
   "codemirror_mode": {
    "name": "ipython",
    "version": 3
   },
   "file_extension": ".py",
   "mimetype": "text/x-python",
   "name": "python",
   "nbconvert_exporter": "python",
   "pygments_lexer": "ipython3",
   "version": "3.12.2"
  }
 },
 "nbformat": 4,
 "nbformat_minor": 5
}
