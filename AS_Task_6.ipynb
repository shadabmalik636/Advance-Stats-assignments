{
 "cells": [
  {
   "cell_type": "code",
   "execution_count": 1,
   "id": "de791a24-75fe-485b-a782-bfe2d673da97",
   "metadata": {},
   "outputs": [
    {
     "name": "stdout",
     "output_type": "stream",
     "text": [
      "a) Posterior distribution of theta: Gamma(47, 476.9)\n",
      "b) Bayes point estimate of theta (square-error loss): 0.0985531557978612\n",
      "c) Bayes point estimate of theta (using mode): 0.09645628014258754\n"
     ]
    }
   ],
   "source": [
    "# Given values\n",
    "alpha_prior = 17\n",
    "beta_prior = 89\n",
    "alpha_data = 3 * 10\n",
    "theta_bar = 38.79\n",
    "\n",
    "# Update parameters for the posterior distribution\n",
    "alpha_posterior = alpha_prior + alpha_data\n",
    "beta_posterior = beta_prior + 10 * theta_bar\n",
    "\n",
    "# Calculate the Bayes point estimates\n",
    "theta_bayes_mean = alpha_posterior / beta_posterior\n",
    "theta_bayes_mode = (alpha_posterior - 1) / beta_posterior\n",
    "\n",
    "print(\"a) Posterior distribution of theta: Gamma({}, {})\".format(alpha_posterior, beta_posterior))\n",
    "print(\"b) Bayes point estimate of theta (square-error loss):\", theta_bayes_mean)\n",
    "print(\"c) Bayes point estimate of theta (using mode):\", theta_bayes_mode)\n"
   ]
  },
  {
   "cell_type": "code",
   "execution_count": null,
   "id": "0b8c3af1-d4e3-44bf-98b7-975f57b3edea",
   "metadata": {},
   "outputs": [],
   "source": []
  }
 ],
 "metadata": {
  "kernelspec": {
   "display_name": "Python 3 (ipykernel)",
   "language": "python",
   "name": "python3"
  },
  "language_info": {
   "codemirror_mode": {
    "name": "ipython",
    "version": 3
   },
   "file_extension": ".py",
   "mimetype": "text/x-python",
   "name": "python",
   "nbconvert_exporter": "python",
   "pygments_lexer": "ipython3",
   "version": "3.12.2"
  }
 },
 "nbformat": 4,
 "nbformat_minor": 5
}
